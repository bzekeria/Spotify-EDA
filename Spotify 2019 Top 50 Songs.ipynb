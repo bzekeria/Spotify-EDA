{
 "cells": [
  {
   "cell_type": "markdown",
   "id": "229eeae8",
   "metadata": {},
   "source": [
    "# Spotify 2019 Top 50 Songs EDA"
   ]
  },
  {
   "cell_type": "markdown",
   "id": "7fa7c38c",
   "metadata": {},
   "source": [
    "## Dataset Info\n",
    " [Kaggle: Top 50 Spotify Songs- 2019]('https://www.kaggle.com/leonardopena/top50spotify2019')\n",
    " - The owner of this dataset compiled their Spotify hisotry from [Organize Your Music]('http://organizeyourmusic.playlistmachinery.com')"
   ]
  },
  {
   "cell_type": "markdown",
   "id": "b30e8bd7",
   "metadata": {},
   "source": [
    "### Column Descriptions"
   ]
  },
  {
   "cell_type": "markdown",
   "id": "a5115348",
   "metadata": {},
   "source": [
    "0. **Genre** - the genre of the track\n",
    "1. **Beats Per Minute (BPM)** - The tempo of the song.\n",
    "2. **Energy** - The energy of a song - the higher the value, the more energtic. song\n",
    "3. **Danceability** - The higher the value, the easier it is to dance to this song.\n",
    "4. **Loudness (dB)** - The higher the value, the louder the song.\n",
    "5. **Liveness** - The higher the value, the more likely the song is a live recording.\n",
    "6. **Valence** - The higher the value, the more positive mood for the song.\n",
    "7. **Length** - The duration of the song.\n",
    "8. **Acousticness** - The higher the value the more acoustic the song is.\n",
    "9. **Speechiness** - The higher the value the more spoken word the song contains.\n",
    "10. **Popularity** - The higher the value the more popular the song is."
   ]
  },
  {
   "cell_type": "markdown",
   "id": "e29cc9c7",
   "metadata": {},
   "source": [
    "### Question: Which artist had the most popular song? \n",
    "- *Note: If the artist is shown multiple times in the dataset, choose the most popular song*"
   ]
  },
  {
   "cell_type": "markdown",
   "id": "0337a2bb",
   "metadata": {},
   "source": [
    "## Import Libraries and Load CSV"
   ]
  },
  {
   "cell_type": "code",
   "execution_count": 1,
   "id": "55ed3e25",
   "metadata": {},
   "outputs": [],
   "source": [
    " # import libraries\n",
    "import numpy as np\n",
    "import pandas as pd\n",
    "import matplotlib.pyplot as plt \n",
    "plt.style.use('ggplot')\n",
    "import seaborn as sns\n",
    "%matplotlib inline\n",
    "from scipy import stats\n",
    "from pandas_profiling import ProfileReport"
   ]
  },
  {
   "cell_type": "code",
   "execution_count": 2,
   "id": "c4be5bc1",
   "metadata": {},
   "outputs": [],
   "source": [
    "top50 = pd.read_csv('2019top50.csv')"
   ]
  },
  {
   "cell_type": "code",
   "execution_count": 3,
   "id": "c3e34c07",
   "metadata": {},
   "outputs": [
    {
     "data": {
      "text/html": [
       "<div>\n",
       "<style scoped>\n",
       "    .dataframe tbody tr th:only-of-type {\n",
       "        vertical-align: middle;\n",
       "    }\n",
       "\n",
       "    .dataframe tbody tr th {\n",
       "        vertical-align: top;\n",
       "    }\n",
       "\n",
       "    .dataframe thead th {\n",
       "        text-align: right;\n",
       "    }\n",
       "</style>\n",
       "<table border=\"1\" class=\"dataframe\">\n",
       "  <thead>\n",
       "    <tr style=\"text-align: right;\">\n",
       "      <th></th>\n",
       "      <th>Unnamed: 0</th>\n",
       "      <th>Track.Name</th>\n",
       "      <th>Artist.Name</th>\n",
       "      <th>Genre</th>\n",
       "      <th>Beats.Per.Minute</th>\n",
       "      <th>Energy</th>\n",
       "      <th>Danceability</th>\n",
       "      <th>Loudness..dB..</th>\n",
       "      <th>Liveness</th>\n",
       "      <th>Valence.</th>\n",
       "      <th>Length.</th>\n",
       "      <th>Acousticness..</th>\n",
       "      <th>Speechiness.</th>\n",
       "      <th>Popularity</th>\n",
       "    </tr>\n",
       "  </thead>\n",
       "  <tbody>\n",
       "    <tr>\n",
       "      <th>0</th>\n",
       "      <td>1</td>\n",
       "      <td>Se�orita</td>\n",
       "      <td>Shawn Mendes</td>\n",
       "      <td>canadian pop</td>\n",
       "      <td>117</td>\n",
       "      <td>55</td>\n",
       "      <td>76</td>\n",
       "      <td>-6</td>\n",
       "      <td>8</td>\n",
       "      <td>75</td>\n",
       "      <td>191</td>\n",
       "      <td>4</td>\n",
       "      <td>3</td>\n",
       "      <td>79</td>\n",
       "    </tr>\n",
       "    <tr>\n",
       "      <th>1</th>\n",
       "      <td>2</td>\n",
       "      <td>China</td>\n",
       "      <td>Anuel AA</td>\n",
       "      <td>reggaeton flow</td>\n",
       "      <td>105</td>\n",
       "      <td>81</td>\n",
       "      <td>79</td>\n",
       "      <td>-4</td>\n",
       "      <td>8</td>\n",
       "      <td>61</td>\n",
       "      <td>302</td>\n",
       "      <td>8</td>\n",
       "      <td>9</td>\n",
       "      <td>92</td>\n",
       "    </tr>\n",
       "    <tr>\n",
       "      <th>2</th>\n",
       "      <td>3</td>\n",
       "      <td>boyfriend (with Social House)</td>\n",
       "      <td>Ariana Grande</td>\n",
       "      <td>dance pop</td>\n",
       "      <td>190</td>\n",
       "      <td>80</td>\n",
       "      <td>40</td>\n",
       "      <td>-4</td>\n",
       "      <td>16</td>\n",
       "      <td>70</td>\n",
       "      <td>186</td>\n",
       "      <td>12</td>\n",
       "      <td>46</td>\n",
       "      <td>85</td>\n",
       "    </tr>\n",
       "    <tr>\n",
       "      <th>3</th>\n",
       "      <td>4</td>\n",
       "      <td>Beautiful People (feat. Khalid)</td>\n",
       "      <td>Ed Sheeran</td>\n",
       "      <td>pop</td>\n",
       "      <td>93</td>\n",
       "      <td>65</td>\n",
       "      <td>64</td>\n",
       "      <td>-8</td>\n",
       "      <td>8</td>\n",
       "      <td>55</td>\n",
       "      <td>198</td>\n",
       "      <td>12</td>\n",
       "      <td>19</td>\n",
       "      <td>86</td>\n",
       "    </tr>\n",
       "    <tr>\n",
       "      <th>4</th>\n",
       "      <td>5</td>\n",
       "      <td>Goodbyes (Feat. Young Thug)</td>\n",
       "      <td>Post Malone</td>\n",
       "      <td>dfw rap</td>\n",
       "      <td>150</td>\n",
       "      <td>65</td>\n",
       "      <td>58</td>\n",
       "      <td>-4</td>\n",
       "      <td>11</td>\n",
       "      <td>18</td>\n",
       "      <td>175</td>\n",
       "      <td>45</td>\n",
       "      <td>7</td>\n",
       "      <td>94</td>\n",
       "    </tr>\n",
       "    <tr>\n",
       "      <th>5</th>\n",
       "      <td>6</td>\n",
       "      <td>I Don't Care (with Justin Bieber)</td>\n",
       "      <td>Ed Sheeran</td>\n",
       "      <td>pop</td>\n",
       "      <td>102</td>\n",
       "      <td>68</td>\n",
       "      <td>80</td>\n",
       "      <td>-5</td>\n",
       "      <td>9</td>\n",
       "      <td>84</td>\n",
       "      <td>220</td>\n",
       "      <td>9</td>\n",
       "      <td>4</td>\n",
       "      <td>84</td>\n",
       "    </tr>\n",
       "    <tr>\n",
       "      <th>6</th>\n",
       "      <td>7</td>\n",
       "      <td>Ransom</td>\n",
       "      <td>Lil Tecca</td>\n",
       "      <td>trap music</td>\n",
       "      <td>180</td>\n",
       "      <td>64</td>\n",
       "      <td>75</td>\n",
       "      <td>-6</td>\n",
       "      <td>7</td>\n",
       "      <td>23</td>\n",
       "      <td>131</td>\n",
       "      <td>2</td>\n",
       "      <td>29</td>\n",
       "      <td>92</td>\n",
       "    </tr>\n",
       "    <tr>\n",
       "      <th>7</th>\n",
       "      <td>8</td>\n",
       "      <td>How Do You Sleep?</td>\n",
       "      <td>Sam Smith</td>\n",
       "      <td>pop</td>\n",
       "      <td>111</td>\n",
       "      <td>68</td>\n",
       "      <td>48</td>\n",
       "      <td>-5</td>\n",
       "      <td>8</td>\n",
       "      <td>35</td>\n",
       "      <td>202</td>\n",
       "      <td>15</td>\n",
       "      <td>9</td>\n",
       "      <td>90</td>\n",
       "    </tr>\n",
       "    <tr>\n",
       "      <th>8</th>\n",
       "      <td>9</td>\n",
       "      <td>Old Town Road - Remix</td>\n",
       "      <td>Lil Nas X</td>\n",
       "      <td>country rap</td>\n",
       "      <td>136</td>\n",
       "      <td>62</td>\n",
       "      <td>88</td>\n",
       "      <td>-6</td>\n",
       "      <td>11</td>\n",
       "      <td>64</td>\n",
       "      <td>157</td>\n",
       "      <td>5</td>\n",
       "      <td>10</td>\n",
       "      <td>87</td>\n",
       "    </tr>\n",
       "    <tr>\n",
       "      <th>9</th>\n",
       "      <td>10</td>\n",
       "      <td>bad guy</td>\n",
       "      <td>Billie Eilish</td>\n",
       "      <td>electropop</td>\n",
       "      <td>135</td>\n",
       "      <td>43</td>\n",
       "      <td>70</td>\n",
       "      <td>-11</td>\n",
       "      <td>10</td>\n",
       "      <td>56</td>\n",
       "      <td>194</td>\n",
       "      <td>33</td>\n",
       "      <td>38</td>\n",
       "      <td>95</td>\n",
       "    </tr>\n",
       "    <tr>\n",
       "      <th>10</th>\n",
       "      <td>11</td>\n",
       "      <td>Callaita</td>\n",
       "      <td>Bad Bunny</td>\n",
       "      <td>reggaeton</td>\n",
       "      <td>176</td>\n",
       "      <td>62</td>\n",
       "      <td>61</td>\n",
       "      <td>-5</td>\n",
       "      <td>24</td>\n",
       "      <td>24</td>\n",
       "      <td>251</td>\n",
       "      <td>60</td>\n",
       "      <td>31</td>\n",
       "      <td>93</td>\n",
       "    </tr>\n",
       "    <tr>\n",
       "      <th>11</th>\n",
       "      <td>12</td>\n",
       "      <td>Loco Contigo (feat. J. Balvin &amp; Tyga)</td>\n",
       "      <td>DJ Snake</td>\n",
       "      <td>dance pop</td>\n",
       "      <td>96</td>\n",
       "      <td>71</td>\n",
       "      <td>82</td>\n",
       "      <td>-4</td>\n",
       "      <td>15</td>\n",
       "      <td>38</td>\n",
       "      <td>185</td>\n",
       "      <td>28</td>\n",
       "      <td>7</td>\n",
       "      <td>86</td>\n",
       "    </tr>\n",
       "    <tr>\n",
       "      <th>12</th>\n",
       "      <td>13</td>\n",
       "      <td>Someone You Loved</td>\n",
       "      <td>Lewis Capaldi</td>\n",
       "      <td>pop</td>\n",
       "      <td>110</td>\n",
       "      <td>41</td>\n",
       "      <td>50</td>\n",
       "      <td>-6</td>\n",
       "      <td>11</td>\n",
       "      <td>45</td>\n",
       "      <td>182</td>\n",
       "      <td>75</td>\n",
       "      <td>3</td>\n",
       "      <td>88</td>\n",
       "    </tr>\n",
       "    <tr>\n",
       "      <th>13</th>\n",
       "      <td>14</td>\n",
       "      <td>Otro Trago - Remix</td>\n",
       "      <td>Sech</td>\n",
       "      <td>panamanian pop</td>\n",
       "      <td>176</td>\n",
       "      <td>79</td>\n",
       "      <td>73</td>\n",
       "      <td>-2</td>\n",
       "      <td>6</td>\n",
       "      <td>76</td>\n",
       "      <td>288</td>\n",
       "      <td>7</td>\n",
       "      <td>20</td>\n",
       "      <td>87</td>\n",
       "    </tr>\n",
       "    <tr>\n",
       "      <th>14</th>\n",
       "      <td>15</td>\n",
       "      <td>Money In The Grave (Drake ft. Rick Ross)</td>\n",
       "      <td>Drake</td>\n",
       "      <td>canadian hip hop</td>\n",
       "      <td>101</td>\n",
       "      <td>50</td>\n",
       "      <td>83</td>\n",
       "      <td>-4</td>\n",
       "      <td>12</td>\n",
       "      <td>10</td>\n",
       "      <td>205</td>\n",
       "      <td>10</td>\n",
       "      <td>5</td>\n",
       "      <td>92</td>\n",
       "    </tr>\n",
       "    <tr>\n",
       "      <th>15</th>\n",
       "      <td>16</td>\n",
       "      <td>No Guidance (feat. Drake)</td>\n",
       "      <td>Chris Brown</td>\n",
       "      <td>dance pop</td>\n",
       "      <td>93</td>\n",
       "      <td>45</td>\n",
       "      <td>70</td>\n",
       "      <td>-7</td>\n",
       "      <td>16</td>\n",
       "      <td>14</td>\n",
       "      <td>261</td>\n",
       "      <td>12</td>\n",
       "      <td>15</td>\n",
       "      <td>82</td>\n",
       "    </tr>\n",
       "    <tr>\n",
       "      <th>16</th>\n",
       "      <td>17</td>\n",
       "      <td>LA CANCI�N</td>\n",
       "      <td>J Balvin</td>\n",
       "      <td>latin</td>\n",
       "      <td>176</td>\n",
       "      <td>65</td>\n",
       "      <td>75</td>\n",
       "      <td>-6</td>\n",
       "      <td>11</td>\n",
       "      <td>43</td>\n",
       "      <td>243</td>\n",
       "      <td>15</td>\n",
       "      <td>32</td>\n",
       "      <td>90</td>\n",
       "    </tr>\n",
       "    <tr>\n",
       "      <th>17</th>\n",
       "      <td>18</td>\n",
       "      <td>Sunflower - Spider-Man: Into the Spider-Verse</td>\n",
       "      <td>Post Malone</td>\n",
       "      <td>dfw rap</td>\n",
       "      <td>90</td>\n",
       "      <td>48</td>\n",
       "      <td>76</td>\n",
       "      <td>-6</td>\n",
       "      <td>7</td>\n",
       "      <td>91</td>\n",
       "      <td>158</td>\n",
       "      <td>56</td>\n",
       "      <td>5</td>\n",
       "      <td>91</td>\n",
       "    </tr>\n",
       "    <tr>\n",
       "      <th>18</th>\n",
       "      <td>19</td>\n",
       "      <td>Lalala</td>\n",
       "      <td>Y2K</td>\n",
       "      <td>canadian hip hop</td>\n",
       "      <td>130</td>\n",
       "      <td>39</td>\n",
       "      <td>84</td>\n",
       "      <td>-8</td>\n",
       "      <td>14</td>\n",
       "      <td>50</td>\n",
       "      <td>161</td>\n",
       "      <td>18</td>\n",
       "      <td>8</td>\n",
       "      <td>88</td>\n",
       "    </tr>\n",
       "    <tr>\n",
       "      <th>19</th>\n",
       "      <td>20</td>\n",
       "      <td>Truth Hurts</td>\n",
       "      <td>Lizzo</td>\n",
       "      <td>escape room</td>\n",
       "      <td>158</td>\n",
       "      <td>62</td>\n",
       "      <td>72</td>\n",
       "      <td>-3</td>\n",
       "      <td>12</td>\n",
       "      <td>41</td>\n",
       "      <td>173</td>\n",
       "      <td>11</td>\n",
       "      <td>11</td>\n",
       "      <td>91</td>\n",
       "    </tr>\n",
       "    <tr>\n",
       "      <th>20</th>\n",
       "      <td>21</td>\n",
       "      <td>Piece Of Your Heart</td>\n",
       "      <td>MEDUZA</td>\n",
       "      <td>pop house</td>\n",
       "      <td>124</td>\n",
       "      <td>74</td>\n",
       "      <td>68</td>\n",
       "      <td>-7</td>\n",
       "      <td>7</td>\n",
       "      <td>63</td>\n",
       "      <td>153</td>\n",
       "      <td>4</td>\n",
       "      <td>3</td>\n",
       "      <td>91</td>\n",
       "    </tr>\n",
       "    <tr>\n",
       "      <th>21</th>\n",
       "      <td>22</td>\n",
       "      <td>Panini</td>\n",
       "      <td>Lil Nas X</td>\n",
       "      <td>country rap</td>\n",
       "      <td>154</td>\n",
       "      <td>59</td>\n",
       "      <td>70</td>\n",
       "      <td>-6</td>\n",
       "      <td>12</td>\n",
       "      <td>48</td>\n",
       "      <td>115</td>\n",
       "      <td>34</td>\n",
       "      <td>8</td>\n",
       "      <td>91</td>\n",
       "    </tr>\n",
       "    <tr>\n",
       "      <th>22</th>\n",
       "      <td>23</td>\n",
       "      <td>No Me Conoce - Remix</td>\n",
       "      <td>Jhay Cortez</td>\n",
       "      <td>reggaeton flow</td>\n",
       "      <td>92</td>\n",
       "      <td>79</td>\n",
       "      <td>81</td>\n",
       "      <td>-4</td>\n",
       "      <td>9</td>\n",
       "      <td>58</td>\n",
       "      <td>309</td>\n",
       "      <td>14</td>\n",
       "      <td>7</td>\n",
       "      <td>83</td>\n",
       "    </tr>\n",
       "    <tr>\n",
       "      <th>23</th>\n",
       "      <td>24</td>\n",
       "      <td>Soltera - Remix</td>\n",
       "      <td>Lunay</td>\n",
       "      <td>latin</td>\n",
       "      <td>92</td>\n",
       "      <td>78</td>\n",
       "      <td>80</td>\n",
       "      <td>-4</td>\n",
       "      <td>44</td>\n",
       "      <td>80</td>\n",
       "      <td>266</td>\n",
       "      <td>36</td>\n",
       "      <td>4</td>\n",
       "      <td>91</td>\n",
       "    </tr>\n",
       "    <tr>\n",
       "      <th>24</th>\n",
       "      <td>25</td>\n",
       "      <td>bad guy (with Justin Bieber)</td>\n",
       "      <td>Billie Eilish</td>\n",
       "      <td>electropop</td>\n",
       "      <td>135</td>\n",
       "      <td>45</td>\n",
       "      <td>67</td>\n",
       "      <td>-11</td>\n",
       "      <td>12</td>\n",
       "      <td>68</td>\n",
       "      <td>195</td>\n",
       "      <td>25</td>\n",
       "      <td>30</td>\n",
       "      <td>89</td>\n",
       "    </tr>\n",
       "    <tr>\n",
       "      <th>25</th>\n",
       "      <td>26</td>\n",
       "      <td>If I Can't Have You</td>\n",
       "      <td>Shawn Mendes</td>\n",
       "      <td>canadian pop</td>\n",
       "      <td>124</td>\n",
       "      <td>82</td>\n",
       "      <td>69</td>\n",
       "      <td>-4</td>\n",
       "      <td>13</td>\n",
       "      <td>87</td>\n",
       "      <td>191</td>\n",
       "      <td>49</td>\n",
       "      <td>6</td>\n",
       "      <td>70</td>\n",
       "    </tr>\n",
       "    <tr>\n",
       "      <th>26</th>\n",
       "      <td>27</td>\n",
       "      <td>Dance Monkey</td>\n",
       "      <td>Tones and I</td>\n",
       "      <td>australian pop</td>\n",
       "      <td>98</td>\n",
       "      <td>59</td>\n",
       "      <td>82</td>\n",
       "      <td>-6</td>\n",
       "      <td>18</td>\n",
       "      <td>54</td>\n",
       "      <td>210</td>\n",
       "      <td>69</td>\n",
       "      <td>10</td>\n",
       "      <td>83</td>\n",
       "    </tr>\n",
       "    <tr>\n",
       "      <th>27</th>\n",
       "      <td>28</td>\n",
       "      <td>It's You</td>\n",
       "      <td>Ali Gatie</td>\n",
       "      <td>canadian hip hop</td>\n",
       "      <td>96</td>\n",
       "      <td>46</td>\n",
       "      <td>73</td>\n",
       "      <td>-7</td>\n",
       "      <td>19</td>\n",
       "      <td>40</td>\n",
       "      <td>213</td>\n",
       "      <td>37</td>\n",
       "      <td>3</td>\n",
       "      <td>89</td>\n",
       "    </tr>\n",
       "    <tr>\n",
       "      <th>28</th>\n",
       "      <td>29</td>\n",
       "      <td>Con Calma</td>\n",
       "      <td>Daddy Yankee</td>\n",
       "      <td>latin</td>\n",
       "      <td>94</td>\n",
       "      <td>86</td>\n",
       "      <td>74</td>\n",
       "      <td>-3</td>\n",
       "      <td>6</td>\n",
       "      <td>66</td>\n",
       "      <td>193</td>\n",
       "      <td>11</td>\n",
       "      <td>6</td>\n",
       "      <td>91</td>\n",
       "    </tr>\n",
       "    <tr>\n",
       "      <th>29</th>\n",
       "      <td>30</td>\n",
       "      <td>QUE PRETENDES</td>\n",
       "      <td>J Balvin</td>\n",
       "      <td>latin</td>\n",
       "      <td>93</td>\n",
       "      <td>79</td>\n",
       "      <td>64</td>\n",
       "      <td>-4</td>\n",
       "      <td>36</td>\n",
       "      <td>94</td>\n",
       "      <td>222</td>\n",
       "      <td>3</td>\n",
       "      <td>25</td>\n",
       "      <td>89</td>\n",
       "    </tr>\n",
       "    <tr>\n",
       "      <th>30</th>\n",
       "      <td>31</td>\n",
       "      <td>Takeaway</td>\n",
       "      <td>The Chainsmokers</td>\n",
       "      <td>edm</td>\n",
       "      <td>85</td>\n",
       "      <td>51</td>\n",
       "      <td>29</td>\n",
       "      <td>-8</td>\n",
       "      <td>10</td>\n",
       "      <td>36</td>\n",
       "      <td>210</td>\n",
       "      <td>12</td>\n",
       "      <td>4</td>\n",
       "      <td>84</td>\n",
       "    </tr>\n",
       "    <tr>\n",
       "      <th>31</th>\n",
       "      <td>32</td>\n",
       "      <td>7 rings</td>\n",
       "      <td>Ariana Grande</td>\n",
       "      <td>dance pop</td>\n",
       "      <td>140</td>\n",
       "      <td>32</td>\n",
       "      <td>78</td>\n",
       "      <td>-11</td>\n",
       "      <td>9</td>\n",
       "      <td>33</td>\n",
       "      <td>179</td>\n",
       "      <td>59</td>\n",
       "      <td>33</td>\n",
       "      <td>89</td>\n",
       "    </tr>\n",
       "    <tr>\n",
       "      <th>32</th>\n",
       "      <td>33</td>\n",
       "      <td>0.958333333333333</td>\n",
       "      <td>Maluma</td>\n",
       "      <td>reggaeton</td>\n",
       "      <td>96</td>\n",
       "      <td>71</td>\n",
       "      <td>78</td>\n",
       "      <td>-5</td>\n",
       "      <td>9</td>\n",
       "      <td>68</td>\n",
       "      <td>176</td>\n",
       "      <td>22</td>\n",
       "      <td>28</td>\n",
       "      <td>89</td>\n",
       "    </tr>\n",
       "    <tr>\n",
       "      <th>33</th>\n",
       "      <td>34</td>\n",
       "      <td>The London (feat. J. Cole &amp; Travis Scott)</td>\n",
       "      <td>Young Thug</td>\n",
       "      <td>atl hip hop</td>\n",
       "      <td>98</td>\n",
       "      <td>59</td>\n",
       "      <td>80</td>\n",
       "      <td>-7</td>\n",
       "      <td>13</td>\n",
       "      <td>18</td>\n",
       "      <td>200</td>\n",
       "      <td>2</td>\n",
       "      <td>15</td>\n",
       "      <td>89</td>\n",
       "    </tr>\n",
       "    <tr>\n",
       "      <th>34</th>\n",
       "      <td>35</td>\n",
       "      <td>Never Really Over</td>\n",
       "      <td>Katy Perry</td>\n",
       "      <td>dance pop</td>\n",
       "      <td>100</td>\n",
       "      <td>88</td>\n",
       "      <td>77</td>\n",
       "      <td>-5</td>\n",
       "      <td>32</td>\n",
       "      <td>39</td>\n",
       "      <td>224</td>\n",
       "      <td>19</td>\n",
       "      <td>6</td>\n",
       "      <td>89</td>\n",
       "    </tr>\n",
       "    <tr>\n",
       "      <th>35</th>\n",
       "      <td>36</td>\n",
       "      <td>Summer Days (feat. Macklemore &amp; Patrick Stump ...</td>\n",
       "      <td>Martin Garrix</td>\n",
       "      <td>big room</td>\n",
       "      <td>114</td>\n",
       "      <td>72</td>\n",
       "      <td>66</td>\n",
       "      <td>-7</td>\n",
       "      <td>14</td>\n",
       "      <td>32</td>\n",
       "      <td>164</td>\n",
       "      <td>18</td>\n",
       "      <td>6</td>\n",
       "      <td>89</td>\n",
       "    </tr>\n",
       "    <tr>\n",
       "      <th>36</th>\n",
       "      <td>37</td>\n",
       "      <td>Otro Trago</td>\n",
       "      <td>Sech</td>\n",
       "      <td>panamanian pop</td>\n",
       "      <td>176</td>\n",
       "      <td>70</td>\n",
       "      <td>75</td>\n",
       "      <td>-5</td>\n",
       "      <td>11</td>\n",
       "      <td>62</td>\n",
       "      <td>226</td>\n",
       "      <td>14</td>\n",
       "      <td>34</td>\n",
       "      <td>91</td>\n",
       "    </tr>\n",
       "    <tr>\n",
       "      <th>37</th>\n",
       "      <td>38</td>\n",
       "      <td>Antisocial (with Travis Scott)</td>\n",
       "      <td>Ed Sheeran</td>\n",
       "      <td>pop</td>\n",
       "      <td>152</td>\n",
       "      <td>82</td>\n",
       "      <td>72</td>\n",
       "      <td>-5</td>\n",
       "      <td>36</td>\n",
       "      <td>91</td>\n",
       "      <td>162</td>\n",
       "      <td>13</td>\n",
       "      <td>5</td>\n",
       "      <td>87</td>\n",
       "    </tr>\n",
       "    <tr>\n",
       "      <th>38</th>\n",
       "      <td>39</td>\n",
       "      <td>Sucker</td>\n",
       "      <td>Jonas Brothers</td>\n",
       "      <td>boy band</td>\n",
       "      <td>138</td>\n",
       "      <td>73</td>\n",
       "      <td>84</td>\n",
       "      <td>-5</td>\n",
       "      <td>11</td>\n",
       "      <td>95</td>\n",
       "      <td>181</td>\n",
       "      <td>4</td>\n",
       "      <td>6</td>\n",
       "      <td>80</td>\n",
       "    </tr>\n",
       "    <tr>\n",
       "      <th>39</th>\n",
       "      <td>40</td>\n",
       "      <td>fuck, i'm lonely (with Anne-Marie) - from �13 ...</td>\n",
       "      <td>Lauv</td>\n",
       "      <td>dance pop</td>\n",
       "      <td>95</td>\n",
       "      <td>56</td>\n",
       "      <td>81</td>\n",
       "      <td>-6</td>\n",
       "      <td>6</td>\n",
       "      <td>68</td>\n",
       "      <td>199</td>\n",
       "      <td>48</td>\n",
       "      <td>7</td>\n",
       "      <td>78</td>\n",
       "    </tr>\n",
       "    <tr>\n",
       "      <th>40</th>\n",
       "      <td>41</td>\n",
       "      <td>Higher Love</td>\n",
       "      <td>Kygo</td>\n",
       "      <td>edm</td>\n",
       "      <td>104</td>\n",
       "      <td>68</td>\n",
       "      <td>69</td>\n",
       "      <td>-7</td>\n",
       "      <td>10</td>\n",
       "      <td>40</td>\n",
       "      <td>228</td>\n",
       "      <td>2</td>\n",
       "      <td>3</td>\n",
       "      <td>88</td>\n",
       "    </tr>\n",
       "    <tr>\n",
       "      <th>41</th>\n",
       "      <td>42</td>\n",
       "      <td>You Need To Calm Down</td>\n",
       "      <td>Taylor Swift</td>\n",
       "      <td>dance pop</td>\n",
       "      <td>85</td>\n",
       "      <td>68</td>\n",
       "      <td>77</td>\n",
       "      <td>-6</td>\n",
       "      <td>7</td>\n",
       "      <td>73</td>\n",
       "      <td>171</td>\n",
       "      <td>1</td>\n",
       "      <td>5</td>\n",
       "      <td>90</td>\n",
       "    </tr>\n",
       "    <tr>\n",
       "      <th>42</th>\n",
       "      <td>43</td>\n",
       "      <td>Shallow</td>\n",
       "      <td>Lady Gaga</td>\n",
       "      <td>dance pop</td>\n",
       "      <td>96</td>\n",
       "      <td>39</td>\n",
       "      <td>57</td>\n",
       "      <td>-6</td>\n",
       "      <td>23</td>\n",
       "      <td>32</td>\n",
       "      <td>216</td>\n",
       "      <td>37</td>\n",
       "      <td>3</td>\n",
       "      <td>87</td>\n",
       "    </tr>\n",
       "    <tr>\n",
       "      <th>43</th>\n",
       "      <td>44</td>\n",
       "      <td>Talk</td>\n",
       "      <td>Khalid</td>\n",
       "      <td>pop</td>\n",
       "      <td>136</td>\n",
       "      <td>40</td>\n",
       "      <td>90</td>\n",
       "      <td>-9</td>\n",
       "      <td>6</td>\n",
       "      <td>35</td>\n",
       "      <td>198</td>\n",
       "      <td>5</td>\n",
       "      <td>13</td>\n",
       "      <td>84</td>\n",
       "    </tr>\n",
       "    <tr>\n",
       "      <th>44</th>\n",
       "      <td>45</td>\n",
       "      <td>Con Altura</td>\n",
       "      <td>ROSAL�A</td>\n",
       "      <td>r&amp;b en espanol</td>\n",
       "      <td>98</td>\n",
       "      <td>69</td>\n",
       "      <td>88</td>\n",
       "      <td>-4</td>\n",
       "      <td>5</td>\n",
       "      <td>75</td>\n",
       "      <td>162</td>\n",
       "      <td>39</td>\n",
       "      <td>12</td>\n",
       "      <td>88</td>\n",
       "    </tr>\n",
       "    <tr>\n",
       "      <th>45</th>\n",
       "      <td>46</td>\n",
       "      <td>One Thing Right</td>\n",
       "      <td>Marshmello</td>\n",
       "      <td>brostep</td>\n",
       "      <td>88</td>\n",
       "      <td>62</td>\n",
       "      <td>66</td>\n",
       "      <td>-2</td>\n",
       "      <td>58</td>\n",
       "      <td>44</td>\n",
       "      <td>182</td>\n",
       "      <td>7</td>\n",
       "      <td>5</td>\n",
       "      <td>88</td>\n",
       "    </tr>\n",
       "    <tr>\n",
       "      <th>46</th>\n",
       "      <td>47</td>\n",
       "      <td>Te Robar�</td>\n",
       "      <td>Nicky Jam</td>\n",
       "      <td>latin</td>\n",
       "      <td>176</td>\n",
       "      <td>75</td>\n",
       "      <td>67</td>\n",
       "      <td>-4</td>\n",
       "      <td>8</td>\n",
       "      <td>80</td>\n",
       "      <td>202</td>\n",
       "      <td>24</td>\n",
       "      <td>6</td>\n",
       "      <td>88</td>\n",
       "    </tr>\n",
       "    <tr>\n",
       "      <th>47</th>\n",
       "      <td>48</td>\n",
       "      <td>Happier</td>\n",
       "      <td>Marshmello</td>\n",
       "      <td>brostep</td>\n",
       "      <td>100</td>\n",
       "      <td>79</td>\n",
       "      <td>69</td>\n",
       "      <td>-3</td>\n",
       "      <td>17</td>\n",
       "      <td>67</td>\n",
       "      <td>214</td>\n",
       "      <td>19</td>\n",
       "      <td>5</td>\n",
       "      <td>88</td>\n",
       "    </tr>\n",
       "    <tr>\n",
       "      <th>48</th>\n",
       "      <td>49</td>\n",
       "      <td>Call You Mine</td>\n",
       "      <td>The Chainsmokers</td>\n",
       "      <td>edm</td>\n",
       "      <td>104</td>\n",
       "      <td>70</td>\n",
       "      <td>59</td>\n",
       "      <td>-6</td>\n",
       "      <td>41</td>\n",
       "      <td>50</td>\n",
       "      <td>218</td>\n",
       "      <td>23</td>\n",
       "      <td>3</td>\n",
       "      <td>88</td>\n",
       "    </tr>\n",
       "    <tr>\n",
       "      <th>49</th>\n",
       "      <td>50</td>\n",
       "      <td>Cross Me (feat. Chance the Rapper &amp; PnB Rock)</td>\n",
       "      <td>Ed Sheeran</td>\n",
       "      <td>pop</td>\n",
       "      <td>95</td>\n",
       "      <td>79</td>\n",
       "      <td>75</td>\n",
       "      <td>-6</td>\n",
       "      <td>7</td>\n",
       "      <td>61</td>\n",
       "      <td>206</td>\n",
       "      <td>21</td>\n",
       "      <td>12</td>\n",
       "      <td>82</td>\n",
       "    </tr>\n",
       "  </tbody>\n",
       "</table>\n",
       "</div>"
      ],
      "text/plain": [
       "    Unnamed: 0                                         Track.Name  \\\n",
       "0            1                                           Se�orita   \n",
       "1            2                                              China   \n",
       "2            3                      boyfriend (with Social House)   \n",
       "3            4                    Beautiful People (feat. Khalid)   \n",
       "4            5                        Goodbyes (Feat. Young Thug)   \n",
       "5            6                  I Don't Care (with Justin Bieber)   \n",
       "6            7                                             Ransom   \n",
       "7            8                                  How Do You Sleep?   \n",
       "8            9                              Old Town Road - Remix   \n",
       "9           10                                            bad guy   \n",
       "10          11                                           Callaita   \n",
       "11          12              Loco Contigo (feat. J. Balvin & Tyga)   \n",
       "12          13                                  Someone You Loved   \n",
       "13          14                                 Otro Trago - Remix   \n",
       "14          15           Money In The Grave (Drake ft. Rick Ross)   \n",
       "15          16                          No Guidance (feat. Drake)   \n",
       "16          17                                         LA CANCI�N   \n",
       "17          18      Sunflower - Spider-Man: Into the Spider-Verse   \n",
       "18          19                                             Lalala   \n",
       "19          20                                        Truth Hurts   \n",
       "20          21                                Piece Of Your Heart   \n",
       "21          22                                             Panini   \n",
       "22          23                               No Me Conoce - Remix   \n",
       "23          24                                    Soltera - Remix   \n",
       "24          25                       bad guy (with Justin Bieber)   \n",
       "25          26                                If I Can't Have You   \n",
       "26          27                                       Dance Monkey   \n",
       "27          28                                           It's You   \n",
       "28          29                                          Con Calma   \n",
       "29          30                                      QUE PRETENDES   \n",
       "30          31                                           Takeaway   \n",
       "31          32                                            7 rings   \n",
       "32          33                                  0.958333333333333   \n",
       "33          34          The London (feat. J. Cole & Travis Scott)   \n",
       "34          35                                  Never Really Over   \n",
       "35          36  Summer Days (feat. Macklemore & Patrick Stump ...   \n",
       "36          37                                         Otro Trago   \n",
       "37          38                     Antisocial (with Travis Scott)   \n",
       "38          39                                             Sucker   \n",
       "39          40  fuck, i'm lonely (with Anne-Marie) - from �13 ...   \n",
       "40          41                                        Higher Love   \n",
       "41          42                              You Need To Calm Down   \n",
       "42          43                                            Shallow   \n",
       "43          44                                               Talk   \n",
       "44          45                                         Con Altura   \n",
       "45          46                                    One Thing Right   \n",
       "46          47                                          Te Robar�   \n",
       "47          48                                            Happier   \n",
       "48          49                                      Call You Mine   \n",
       "49          50      Cross Me (feat. Chance the Rapper & PnB Rock)   \n",
       "\n",
       "         Artist.Name             Genre  Beats.Per.Minute  Energy  \\\n",
       "0       Shawn Mendes      canadian pop               117      55   \n",
       "1           Anuel AA    reggaeton flow               105      81   \n",
       "2      Ariana Grande         dance pop               190      80   \n",
       "3         Ed Sheeran               pop                93      65   \n",
       "4        Post Malone           dfw rap               150      65   \n",
       "5         Ed Sheeran               pop               102      68   \n",
       "6          Lil Tecca        trap music               180      64   \n",
       "7          Sam Smith               pop               111      68   \n",
       "8          Lil Nas X       country rap               136      62   \n",
       "9      Billie Eilish        electropop               135      43   \n",
       "10         Bad Bunny         reggaeton               176      62   \n",
       "11          DJ Snake         dance pop                96      71   \n",
       "12     Lewis Capaldi               pop               110      41   \n",
       "13              Sech    panamanian pop               176      79   \n",
       "14             Drake  canadian hip hop               101      50   \n",
       "15       Chris Brown         dance pop                93      45   \n",
       "16          J Balvin             latin               176      65   \n",
       "17       Post Malone           dfw rap                90      48   \n",
       "18               Y2K  canadian hip hop               130      39   \n",
       "19             Lizzo       escape room               158      62   \n",
       "20            MEDUZA         pop house               124      74   \n",
       "21         Lil Nas X       country rap               154      59   \n",
       "22       Jhay Cortez    reggaeton flow                92      79   \n",
       "23             Lunay             latin                92      78   \n",
       "24     Billie Eilish        electropop               135      45   \n",
       "25      Shawn Mendes      canadian pop               124      82   \n",
       "26       Tones and I    australian pop                98      59   \n",
       "27         Ali Gatie  canadian hip hop                96      46   \n",
       "28      Daddy Yankee             latin                94      86   \n",
       "29          J Balvin             latin                93      79   \n",
       "30  The Chainsmokers               edm                85      51   \n",
       "31     Ariana Grande         dance pop               140      32   \n",
       "32            Maluma         reggaeton                96      71   \n",
       "33        Young Thug       atl hip hop                98      59   \n",
       "34        Katy Perry         dance pop               100      88   \n",
       "35     Martin Garrix          big room               114      72   \n",
       "36              Sech    panamanian pop               176      70   \n",
       "37        Ed Sheeran               pop               152      82   \n",
       "38    Jonas Brothers          boy band               138      73   \n",
       "39              Lauv         dance pop                95      56   \n",
       "40              Kygo               edm               104      68   \n",
       "41      Taylor Swift         dance pop                85      68   \n",
       "42         Lady Gaga         dance pop                96      39   \n",
       "43            Khalid               pop               136      40   \n",
       "44           ROSAL�A    r&b en espanol                98      69   \n",
       "45        Marshmello           brostep                88      62   \n",
       "46         Nicky Jam             latin               176      75   \n",
       "47        Marshmello           brostep               100      79   \n",
       "48  The Chainsmokers               edm               104      70   \n",
       "49        Ed Sheeran               pop                95      79   \n",
       "\n",
       "    Danceability  Loudness..dB..  Liveness  Valence.  Length.  Acousticness..  \\\n",
       "0             76              -6         8        75      191               4   \n",
       "1             79              -4         8        61      302               8   \n",
       "2             40              -4        16        70      186              12   \n",
       "3             64              -8         8        55      198              12   \n",
       "4             58              -4        11        18      175              45   \n",
       "5             80              -5         9        84      220               9   \n",
       "6             75              -6         7        23      131               2   \n",
       "7             48              -5         8        35      202              15   \n",
       "8             88              -6        11        64      157               5   \n",
       "9             70             -11        10        56      194              33   \n",
       "10            61              -5        24        24      251              60   \n",
       "11            82              -4        15        38      185              28   \n",
       "12            50              -6        11        45      182              75   \n",
       "13            73              -2         6        76      288               7   \n",
       "14            83              -4        12        10      205              10   \n",
       "15            70              -7        16        14      261              12   \n",
       "16            75              -6        11        43      243              15   \n",
       "17            76              -6         7        91      158              56   \n",
       "18            84              -8        14        50      161              18   \n",
       "19            72              -3        12        41      173              11   \n",
       "20            68              -7         7        63      153               4   \n",
       "21            70              -6        12        48      115              34   \n",
       "22            81              -4         9        58      309              14   \n",
       "23            80              -4        44        80      266              36   \n",
       "24            67             -11        12        68      195              25   \n",
       "25            69              -4        13        87      191              49   \n",
       "26            82              -6        18        54      210              69   \n",
       "27            73              -7        19        40      213              37   \n",
       "28            74              -3         6        66      193              11   \n",
       "29            64              -4        36        94      222               3   \n",
       "30            29              -8        10        36      210              12   \n",
       "31            78             -11         9        33      179              59   \n",
       "32            78              -5         9        68      176              22   \n",
       "33            80              -7        13        18      200               2   \n",
       "34            77              -5        32        39      224              19   \n",
       "35            66              -7        14        32      164              18   \n",
       "36            75              -5        11        62      226              14   \n",
       "37            72              -5        36        91      162              13   \n",
       "38            84              -5        11        95      181               4   \n",
       "39            81              -6         6        68      199              48   \n",
       "40            69              -7        10        40      228               2   \n",
       "41            77              -6         7        73      171               1   \n",
       "42            57              -6        23        32      216              37   \n",
       "43            90              -9         6        35      198               5   \n",
       "44            88              -4         5        75      162              39   \n",
       "45            66              -2        58        44      182               7   \n",
       "46            67              -4         8        80      202              24   \n",
       "47            69              -3        17        67      214              19   \n",
       "48            59              -6        41        50      218              23   \n",
       "49            75              -6         7        61      206              21   \n",
       "\n",
       "    Speechiness.  Popularity  \n",
       "0              3          79  \n",
       "1              9          92  \n",
       "2             46          85  \n",
       "3             19          86  \n",
       "4              7          94  \n",
       "5              4          84  \n",
       "6             29          92  \n",
       "7              9          90  \n",
       "8             10          87  \n",
       "9             38          95  \n",
       "10            31          93  \n",
       "11             7          86  \n",
       "12             3          88  \n",
       "13            20          87  \n",
       "14             5          92  \n",
       "15            15          82  \n",
       "16            32          90  \n",
       "17             5          91  \n",
       "18             8          88  \n",
       "19            11          91  \n",
       "20             3          91  \n",
       "21             8          91  \n",
       "22             7          83  \n",
       "23             4          91  \n",
       "24            30          89  \n",
       "25             6          70  \n",
       "26            10          83  \n",
       "27             3          89  \n",
       "28             6          91  \n",
       "29            25          89  \n",
       "30             4          84  \n",
       "31            33          89  \n",
       "32            28          89  \n",
       "33            15          89  \n",
       "34             6          89  \n",
       "35             6          89  \n",
       "36            34          91  \n",
       "37             5          87  \n",
       "38             6          80  \n",
       "39             7          78  \n",
       "40             3          88  \n",
       "41             5          90  \n",
       "42             3          87  \n",
       "43            13          84  \n",
       "44            12          88  \n",
       "45             5          88  \n",
       "46             6          88  \n",
       "47             5          88  \n",
       "48             3          88  \n",
       "49            12          82  "
      ]
     },
     "execution_count": 3,
     "metadata": {},
     "output_type": "execute_result"
    }
   ],
   "source": [
    "top50"
   ]
  },
  {
   "cell_type": "markdown",
   "id": "4eb0dd5f",
   "metadata": {},
   "source": [
    "Right off the bat, we notice an error in the dataset. Let's drop the first column as it was the original indices column before exported"
   ]
  },
  {
   "cell_type": "code",
   "execution_count": 4,
   "id": "ba200e6b",
   "metadata": {},
   "outputs": [],
   "source": [
    "top50.drop([\"Unnamed: 0\"], axis = 1, inplace = True)"
   ]
  },
  {
   "cell_type": "code",
   "execution_count": 5,
   "id": "66654894",
   "metadata": {},
   "outputs": [
    {
     "data": {
      "text/plain": [
       "Index(['Track.Name', 'Artist.Name', 'Genre', 'Beats.Per.Minute', 'Energy',\n",
       "       'Danceability', 'Loudness..dB..', 'Liveness', 'Valence.', 'Length.',\n",
       "       'Acousticness..', 'Speechiness.', 'Popularity'],\n",
       "      dtype='object')"
      ]
     },
     "execution_count": 5,
     "metadata": {},
     "output_type": "execute_result"
    }
   ],
   "source": [
    "top50.columns"
   ]
  },
  {
   "cell_type": "markdown",
   "id": "f52b5800",
   "metadata": {},
   "source": [
    "## Task 1: Initial Data Exploration"
   ]
  },
  {
   "cell_type": "code",
   "execution_count": 6,
   "id": "28c9c30e",
   "metadata": {},
   "outputs": [
    {
     "data": {
      "text/html": [
       "<div>\n",
       "<style scoped>\n",
       "    .dataframe tbody tr th:only-of-type {\n",
       "        vertical-align: middle;\n",
       "    }\n",
       "\n",
       "    .dataframe tbody tr th {\n",
       "        vertical-align: top;\n",
       "    }\n",
       "\n",
       "    .dataframe thead th {\n",
       "        text-align: right;\n",
       "    }\n",
       "</style>\n",
       "<table border=\"1\" class=\"dataframe\">\n",
       "  <thead>\n",
       "    <tr style=\"text-align: right;\">\n",
       "      <th></th>\n",
       "      <th>Track.Name</th>\n",
       "      <th>Artist.Name</th>\n",
       "      <th>Genre</th>\n",
       "      <th>Beats.Per.Minute</th>\n",
       "      <th>Energy</th>\n",
       "      <th>Danceability</th>\n",
       "      <th>Loudness..dB..</th>\n",
       "      <th>Liveness</th>\n",
       "      <th>Valence.</th>\n",
       "      <th>Length.</th>\n",
       "      <th>Acousticness..</th>\n",
       "      <th>Speechiness.</th>\n",
       "      <th>Popularity</th>\n",
       "    </tr>\n",
       "  </thead>\n",
       "  <tbody>\n",
       "    <tr>\n",
       "      <th>0</th>\n",
       "      <td>Se�orita</td>\n",
       "      <td>Shawn Mendes</td>\n",
       "      <td>canadian pop</td>\n",
       "      <td>117</td>\n",
       "      <td>55</td>\n",
       "      <td>76</td>\n",
       "      <td>-6</td>\n",
       "      <td>8</td>\n",
       "      <td>75</td>\n",
       "      <td>191</td>\n",
       "      <td>4</td>\n",
       "      <td>3</td>\n",
       "      <td>79</td>\n",
       "    </tr>\n",
       "    <tr>\n",
       "      <th>1</th>\n",
       "      <td>China</td>\n",
       "      <td>Anuel AA</td>\n",
       "      <td>reggaeton flow</td>\n",
       "      <td>105</td>\n",
       "      <td>81</td>\n",
       "      <td>79</td>\n",
       "      <td>-4</td>\n",
       "      <td>8</td>\n",
       "      <td>61</td>\n",
       "      <td>302</td>\n",
       "      <td>8</td>\n",
       "      <td>9</td>\n",
       "      <td>92</td>\n",
       "    </tr>\n",
       "    <tr>\n",
       "      <th>2</th>\n",
       "      <td>boyfriend (with Social House)</td>\n",
       "      <td>Ariana Grande</td>\n",
       "      <td>dance pop</td>\n",
       "      <td>190</td>\n",
       "      <td>80</td>\n",
       "      <td>40</td>\n",
       "      <td>-4</td>\n",
       "      <td>16</td>\n",
       "      <td>70</td>\n",
       "      <td>186</td>\n",
       "      <td>12</td>\n",
       "      <td>46</td>\n",
       "      <td>85</td>\n",
       "    </tr>\n",
       "    <tr>\n",
       "      <th>3</th>\n",
       "      <td>Beautiful People (feat. Khalid)</td>\n",
       "      <td>Ed Sheeran</td>\n",
       "      <td>pop</td>\n",
       "      <td>93</td>\n",
       "      <td>65</td>\n",
       "      <td>64</td>\n",
       "      <td>-8</td>\n",
       "      <td>8</td>\n",
       "      <td>55</td>\n",
       "      <td>198</td>\n",
       "      <td>12</td>\n",
       "      <td>19</td>\n",
       "      <td>86</td>\n",
       "    </tr>\n",
       "    <tr>\n",
       "      <th>4</th>\n",
       "      <td>Goodbyes (Feat. Young Thug)</td>\n",
       "      <td>Post Malone</td>\n",
       "      <td>dfw rap</td>\n",
       "      <td>150</td>\n",
       "      <td>65</td>\n",
       "      <td>58</td>\n",
       "      <td>-4</td>\n",
       "      <td>11</td>\n",
       "      <td>18</td>\n",
       "      <td>175</td>\n",
       "      <td>45</td>\n",
       "      <td>7</td>\n",
       "      <td>94</td>\n",
       "    </tr>\n",
       "  </tbody>\n",
       "</table>\n",
       "</div>"
      ],
      "text/plain": [
       "                        Track.Name    Artist.Name           Genre  \\\n",
       "0                         Se�orita   Shawn Mendes    canadian pop   \n",
       "1                            China       Anuel AA  reggaeton flow   \n",
       "2    boyfriend (with Social House)  Ariana Grande       dance pop   \n",
       "3  Beautiful People (feat. Khalid)     Ed Sheeran             pop   \n",
       "4      Goodbyes (Feat. Young Thug)    Post Malone         dfw rap   \n",
       "\n",
       "   Beats.Per.Minute  Energy  Danceability  Loudness..dB..  Liveness  Valence.  \\\n",
       "0               117      55            76              -6         8        75   \n",
       "1               105      81            79              -4         8        61   \n",
       "2               190      80            40              -4        16        70   \n",
       "3                93      65            64              -8         8        55   \n",
       "4               150      65            58              -4        11        18   \n",
       "\n",
       "   Length.  Acousticness..  Speechiness.  Popularity  \n",
       "0      191               4             3          79  \n",
       "1      302               8             9          92  \n",
       "2      186              12            46          85  \n",
       "3      198              12            19          86  \n",
       "4      175              45             7          94  "
      ]
     },
     "execution_count": 6,
     "metadata": {},
     "output_type": "execute_result"
    }
   ],
   "source": [
    "top50.head()"
   ]
  },
  {
   "cell_type": "code",
   "execution_count": 7,
   "id": "4fbf3c3e",
   "metadata": {},
   "outputs": [
    {
     "data": {
      "text/html": [
       "<div>\n",
       "<style scoped>\n",
       "    .dataframe tbody tr th:only-of-type {\n",
       "        vertical-align: middle;\n",
       "    }\n",
       "\n",
       "    .dataframe tbody tr th {\n",
       "        vertical-align: top;\n",
       "    }\n",
       "\n",
       "    .dataframe thead th {\n",
       "        text-align: right;\n",
       "    }\n",
       "</style>\n",
       "<table border=\"1\" class=\"dataframe\">\n",
       "  <thead>\n",
       "    <tr style=\"text-align: right;\">\n",
       "      <th></th>\n",
       "      <th>Track.Name</th>\n",
       "      <th>Artist.Name</th>\n",
       "      <th>Genre</th>\n",
       "      <th>Beats.Per.Minute</th>\n",
       "      <th>Energy</th>\n",
       "      <th>Danceability</th>\n",
       "      <th>Loudness..dB..</th>\n",
       "      <th>Liveness</th>\n",
       "      <th>Valence.</th>\n",
       "      <th>Length.</th>\n",
       "      <th>Acousticness..</th>\n",
       "      <th>Speechiness.</th>\n",
       "      <th>Popularity</th>\n",
       "    </tr>\n",
       "  </thead>\n",
       "  <tbody>\n",
       "    <tr>\n",
       "      <th>45</th>\n",
       "      <td>One Thing Right</td>\n",
       "      <td>Marshmello</td>\n",
       "      <td>brostep</td>\n",
       "      <td>88</td>\n",
       "      <td>62</td>\n",
       "      <td>66</td>\n",
       "      <td>-2</td>\n",
       "      <td>58</td>\n",
       "      <td>44</td>\n",
       "      <td>182</td>\n",
       "      <td>7</td>\n",
       "      <td>5</td>\n",
       "      <td>88</td>\n",
       "    </tr>\n",
       "    <tr>\n",
       "      <th>46</th>\n",
       "      <td>Te Robar�</td>\n",
       "      <td>Nicky Jam</td>\n",
       "      <td>latin</td>\n",
       "      <td>176</td>\n",
       "      <td>75</td>\n",
       "      <td>67</td>\n",
       "      <td>-4</td>\n",
       "      <td>8</td>\n",
       "      <td>80</td>\n",
       "      <td>202</td>\n",
       "      <td>24</td>\n",
       "      <td>6</td>\n",
       "      <td>88</td>\n",
       "    </tr>\n",
       "    <tr>\n",
       "      <th>47</th>\n",
       "      <td>Happier</td>\n",
       "      <td>Marshmello</td>\n",
       "      <td>brostep</td>\n",
       "      <td>100</td>\n",
       "      <td>79</td>\n",
       "      <td>69</td>\n",
       "      <td>-3</td>\n",
       "      <td>17</td>\n",
       "      <td>67</td>\n",
       "      <td>214</td>\n",
       "      <td>19</td>\n",
       "      <td>5</td>\n",
       "      <td>88</td>\n",
       "    </tr>\n",
       "    <tr>\n",
       "      <th>48</th>\n",
       "      <td>Call You Mine</td>\n",
       "      <td>The Chainsmokers</td>\n",
       "      <td>edm</td>\n",
       "      <td>104</td>\n",
       "      <td>70</td>\n",
       "      <td>59</td>\n",
       "      <td>-6</td>\n",
       "      <td>41</td>\n",
       "      <td>50</td>\n",
       "      <td>218</td>\n",
       "      <td>23</td>\n",
       "      <td>3</td>\n",
       "      <td>88</td>\n",
       "    </tr>\n",
       "    <tr>\n",
       "      <th>49</th>\n",
       "      <td>Cross Me (feat. Chance the Rapper &amp; PnB Rock)</td>\n",
       "      <td>Ed Sheeran</td>\n",
       "      <td>pop</td>\n",
       "      <td>95</td>\n",
       "      <td>79</td>\n",
       "      <td>75</td>\n",
       "      <td>-6</td>\n",
       "      <td>7</td>\n",
       "      <td>61</td>\n",
       "      <td>206</td>\n",
       "      <td>21</td>\n",
       "      <td>12</td>\n",
       "      <td>82</td>\n",
       "    </tr>\n",
       "  </tbody>\n",
       "</table>\n",
       "</div>"
      ],
      "text/plain": [
       "                                       Track.Name       Artist.Name    Genre  \\\n",
       "45                                One Thing Right        Marshmello  brostep   \n",
       "46                                      Te Robar�         Nicky Jam    latin   \n",
       "47                                        Happier        Marshmello  brostep   \n",
       "48                                  Call You Mine  The Chainsmokers      edm   \n",
       "49  Cross Me (feat. Chance the Rapper & PnB Rock)        Ed Sheeran      pop   \n",
       "\n",
       "    Beats.Per.Minute  Energy  Danceability  Loudness..dB..  Liveness  \\\n",
       "45                88      62            66              -2        58   \n",
       "46               176      75            67              -4         8   \n",
       "47               100      79            69              -3        17   \n",
       "48               104      70            59              -6        41   \n",
       "49                95      79            75              -6         7   \n",
       "\n",
       "    Valence.  Length.  Acousticness..  Speechiness.  Popularity  \n",
       "45        44      182               7             5          88  \n",
       "46        80      202              24             6          88  \n",
       "47        67      214              19             5          88  \n",
       "48        50      218              23             3          88  \n",
       "49        61      206              21            12          82  "
      ]
     },
     "execution_count": 7,
     "metadata": {},
     "output_type": "execute_result"
    }
   ],
   "source": [
    "top50.tail()"
   ]
  },
  {
   "cell_type": "code",
   "execution_count": 8,
   "id": "7d0b7479",
   "metadata": {},
   "outputs": [
    {
     "data": {
      "text/html": [
       "<div>\n",
       "<style scoped>\n",
       "    .dataframe tbody tr th:only-of-type {\n",
       "        vertical-align: middle;\n",
       "    }\n",
       "\n",
       "    .dataframe tbody tr th {\n",
       "        vertical-align: top;\n",
       "    }\n",
       "\n",
       "    .dataframe thead th {\n",
       "        text-align: right;\n",
       "    }\n",
       "</style>\n",
       "<table border=\"1\" class=\"dataframe\">\n",
       "  <thead>\n",
       "    <tr style=\"text-align: right;\">\n",
       "      <th></th>\n",
       "      <th>count</th>\n",
       "      <th>mean</th>\n",
       "      <th>std</th>\n",
       "      <th>min</th>\n",
       "      <th>25%</th>\n",
       "      <th>50%</th>\n",
       "      <th>75%</th>\n",
       "      <th>max</th>\n",
       "    </tr>\n",
       "  </thead>\n",
       "  <tbody>\n",
       "    <tr>\n",
       "      <th>Beats.Per.Minute</th>\n",
       "      <td>50.0</td>\n",
       "      <td>120.06</td>\n",
       "      <td>30.898392</td>\n",
       "      <td>85.0</td>\n",
       "      <td>96.00</td>\n",
       "      <td>104.5</td>\n",
       "      <td>137.50</td>\n",
       "      <td>190.0</td>\n",
       "    </tr>\n",
       "    <tr>\n",
       "      <th>Energy</th>\n",
       "      <td>50.0</td>\n",
       "      <td>64.06</td>\n",
       "      <td>14.231913</td>\n",
       "      <td>32.0</td>\n",
       "      <td>55.25</td>\n",
       "      <td>66.5</td>\n",
       "      <td>74.75</td>\n",
       "      <td>88.0</td>\n",
       "    </tr>\n",
       "    <tr>\n",
       "      <th>Danceability</th>\n",
       "      <td>50.0</td>\n",
       "      <td>71.38</td>\n",
       "      <td>11.929880</td>\n",
       "      <td>29.0</td>\n",
       "      <td>67.00</td>\n",
       "      <td>73.5</td>\n",
       "      <td>79.75</td>\n",
       "      <td>90.0</td>\n",
       "    </tr>\n",
       "    <tr>\n",
       "      <th>Loudness..dB..</th>\n",
       "      <td>50.0</td>\n",
       "      <td>-5.66</td>\n",
       "      <td>2.056448</td>\n",
       "      <td>-11.0</td>\n",
       "      <td>-6.75</td>\n",
       "      <td>-6.0</td>\n",
       "      <td>-4.00</td>\n",
       "      <td>-2.0</td>\n",
       "    </tr>\n",
       "    <tr>\n",
       "      <th>Liveness</th>\n",
       "      <td>50.0</td>\n",
       "      <td>14.66</td>\n",
       "      <td>11.118306</td>\n",
       "      <td>5.0</td>\n",
       "      <td>8.00</td>\n",
       "      <td>11.0</td>\n",
       "      <td>15.75</td>\n",
       "      <td>58.0</td>\n",
       "    </tr>\n",
       "    <tr>\n",
       "      <th>Valence.</th>\n",
       "      <td>50.0</td>\n",
       "      <td>54.60</td>\n",
       "      <td>22.336024</td>\n",
       "      <td>10.0</td>\n",
       "      <td>38.25</td>\n",
       "      <td>55.5</td>\n",
       "      <td>69.50</td>\n",
       "      <td>95.0</td>\n",
       "    </tr>\n",
       "    <tr>\n",
       "      <th>Length.</th>\n",
       "      <td>50.0</td>\n",
       "      <td>200.96</td>\n",
       "      <td>39.143879</td>\n",
       "      <td>115.0</td>\n",
       "      <td>176.75</td>\n",
       "      <td>198.0</td>\n",
       "      <td>217.50</td>\n",
       "      <td>309.0</td>\n",
       "    </tr>\n",
       "    <tr>\n",
       "      <th>Acousticness..</th>\n",
       "      <td>50.0</td>\n",
       "      <td>22.16</td>\n",
       "      <td>18.995553</td>\n",
       "      <td>1.0</td>\n",
       "      <td>8.25</td>\n",
       "      <td>15.0</td>\n",
       "      <td>33.75</td>\n",
       "      <td>75.0</td>\n",
       "    </tr>\n",
       "    <tr>\n",
       "      <th>Speechiness.</th>\n",
       "      <td>50.0</td>\n",
       "      <td>12.48</td>\n",
       "      <td>11.161596</td>\n",
       "      <td>3.0</td>\n",
       "      <td>5.00</td>\n",
       "      <td>7.0</td>\n",
       "      <td>15.00</td>\n",
       "      <td>46.0</td>\n",
       "    </tr>\n",
       "    <tr>\n",
       "      <th>Popularity</th>\n",
       "      <td>50.0</td>\n",
       "      <td>87.50</td>\n",
       "      <td>4.491489</td>\n",
       "      <td>70.0</td>\n",
       "      <td>86.00</td>\n",
       "      <td>88.0</td>\n",
       "      <td>90.75</td>\n",
       "      <td>95.0</td>\n",
       "    </tr>\n",
       "  </tbody>\n",
       "</table>\n",
       "</div>"
      ],
      "text/plain": [
       "                  count    mean        std    min     25%    50%     75%  \\\n",
       "Beats.Per.Minute   50.0  120.06  30.898392   85.0   96.00  104.5  137.50   \n",
       "Energy             50.0   64.06  14.231913   32.0   55.25   66.5   74.75   \n",
       "Danceability       50.0   71.38  11.929880   29.0   67.00   73.5   79.75   \n",
       "Loudness..dB..     50.0   -5.66   2.056448  -11.0   -6.75   -6.0   -4.00   \n",
       "Liveness           50.0   14.66  11.118306    5.0    8.00   11.0   15.75   \n",
       "Valence.           50.0   54.60  22.336024   10.0   38.25   55.5   69.50   \n",
       "Length.            50.0  200.96  39.143879  115.0  176.75  198.0  217.50   \n",
       "Acousticness..     50.0   22.16  18.995553    1.0    8.25   15.0   33.75   \n",
       "Speechiness.       50.0   12.48  11.161596    3.0    5.00    7.0   15.00   \n",
       "Popularity         50.0   87.50   4.491489   70.0   86.00   88.0   90.75   \n",
       "\n",
       "                    max  \n",
       "Beats.Per.Minute  190.0  \n",
       "Energy             88.0  \n",
       "Danceability       90.0  \n",
       "Loudness..dB..     -2.0  \n",
       "Liveness           58.0  \n",
       "Valence.           95.0  \n",
       "Length.           309.0  \n",
       "Acousticness..     75.0  \n",
       "Speechiness.       46.0  \n",
       "Popularity         95.0  "
      ]
     },
     "execution_count": 8,
     "metadata": {},
     "output_type": "execute_result"
    }
   ],
   "source": [
    "top50.describe().T"
   ]
  },
  {
   "cell_type": "code",
   "execution_count": 9,
   "id": "1be54b75",
   "metadata": {},
   "outputs": [
    {
     "data": {
      "text/plain": [
       "(50, 13)"
      ]
     },
     "execution_count": 9,
     "metadata": {},
     "output_type": "execute_result"
    }
   ],
   "source": [
    "top50.shape"
   ]
  },
  {
   "cell_type": "code",
   "execution_count": 10,
   "id": "95e595de",
   "metadata": {},
   "outputs": [
    {
     "data": {
      "text/plain": [
       "Index(['Track.Name', 'Artist.Name', 'Genre', 'Beats.Per.Minute', 'Energy',\n",
       "       'Danceability', 'Loudness..dB..', 'Liveness', 'Valence.', 'Length.',\n",
       "       'Acousticness..', 'Speechiness.', 'Popularity'],\n",
       "      dtype='object')"
      ]
     },
     "execution_count": 10,
     "metadata": {},
     "output_type": "execute_result"
    }
   ],
   "source": [
    "top50.columns"
   ]
  },
  {
   "cell_type": "code",
   "execution_count": 11,
   "id": "db1fd3e7",
   "metadata": {},
   "outputs": [
    {
     "data": {
      "text/plain": [
       "Track.Name          50\n",
       "Artist.Name         38\n",
       "Genre               21\n",
       "Beats.Per.Minute    31\n",
       "Energy              31\n",
       "Danceability        29\n",
       "Loudness..dB..       9\n",
       "Liveness            22\n",
       "Valence.            39\n",
       "Length.             44\n",
       "Acousticness..      35\n",
       "Speechiness.        24\n",
       "Popularity          18\n",
       "dtype: int64"
      ]
     },
     "execution_count": 11,
     "metadata": {},
     "output_type": "execute_result"
    }
   ],
   "source": [
    "top50.nunique()"
   ]
  },
  {
   "cell_type": "markdown",
   "id": "7f955ad8",
   "metadata": {},
   "source": [
    "This tells us the unique values for each column. From a quick glance, we can understand why one of the columns have the same number of unique values as the amount of rows in the dataset. Whereas other columns such as 'Artist.Name' don't (see below)."
   ]
  },
  {
   "cell_type": "code",
   "execution_count": 12,
   "id": "cd9366b6",
   "metadata": {},
   "outputs": [
    {
     "data": {
      "text/plain": [
       "array(['Shawn Mendes', 'Anuel AA', 'Ariana Grande', 'Ed Sheeran',\n",
       "       'Post Malone', 'Lil Tecca', 'Sam Smith', 'Lil Nas X',\n",
       "       'Billie Eilish', 'Bad Bunny', 'DJ Snake', 'Lewis Capaldi', 'Sech',\n",
       "       'Drake', 'Chris Brown', 'J Balvin', 'Y2K', 'Lizzo', 'MEDUZA',\n",
       "       'Jhay Cortez', 'Lunay', 'Tones and I', 'Ali Gatie', 'Daddy Yankee',\n",
       "       'The Chainsmokers', 'Maluma', 'Young Thug', 'Katy Perry',\n",
       "       'Martin Garrix', 'Jonas Brothers', 'Lauv', 'Kygo', 'Taylor Swift',\n",
       "       'Lady Gaga', 'Khalid', 'ROSAL�A', 'Marshmello', 'Nicky Jam'],\n",
       "      dtype=object)"
      ]
     },
     "execution_count": 12,
     "metadata": {},
     "output_type": "execute_result"
    }
   ],
   "source": [
    "top50['Artist.Name'].unique()"
   ]
  },
  {
   "cell_type": "code",
   "execution_count": 13,
   "id": "146aa2cd",
   "metadata": {},
   "outputs": [
    {
     "data": {
      "text/plain": [
       "Track.Name          object\n",
       "Artist.Name         object\n",
       "Genre               object\n",
       "Beats.Per.Minute     int64\n",
       "Energy               int64\n",
       "Danceability         int64\n",
       "Loudness..dB..       int64\n",
       "Liveness             int64\n",
       "Valence.             int64\n",
       "Length.              int64\n",
       "Acousticness..       int64\n",
       "Speechiness.         int64\n",
       "Popularity           int64\n",
       "dtype: object"
      ]
     },
     "execution_count": 13,
     "metadata": {},
     "output_type": "execute_result"
    }
   ],
   "source": [
    "top50.dtypes"
   ]
  },
  {
   "cell_type": "markdown",
   "id": "9b055600",
   "metadata": {},
   "source": [
    "Awesome, all of the columns follow the conventional data type for their respective values."
   ]
  },
  {
   "cell_type": "code",
   "execution_count": 14,
   "id": "f2c06e06",
   "metadata": {},
   "outputs": [
    {
     "data": {
      "text/plain": [
       "Track.Name          0\n",
       "Artist.Name         0\n",
       "Genre               0\n",
       "Beats.Per.Minute    0\n",
       "Energy              0\n",
       "Danceability        0\n",
       "Loudness..dB..      0\n",
       "Liveness            0\n",
       "Valence.            0\n",
       "Length.             0\n",
       "Acousticness..      0\n",
       "Speechiness.        0\n",
       "Popularity          0\n",
       "dtype: int64"
      ]
     },
     "execution_count": 14,
     "metadata": {},
     "output_type": "execute_result"
    }
   ],
   "source": [
    "top50.isnull().sum()"
   ]
  },
  {
   "cell_type": "markdown",
   "id": "c0d21da3",
   "metadata": {},
   "source": [
    "## Task 2: Data Cleaning"
   ]
  },
  {
   "cell_type": "markdown",
   "id": "f3a761d4",
   "metadata": {},
   "source": [
    "### 2.1: Renaming Columns"
   ]
  },
  {
   "cell_type": "markdown",
   "id": "4a49780e",
   "metadata": {},
   "source": [
    "First, lets see our columns once again *(remember we dropped one at the beginning)*."
   ]
  },
  {
   "cell_type": "code",
   "execution_count": 15,
   "id": "559e08b5",
   "metadata": {},
   "outputs": [
    {
     "data": {
      "text/plain": [
       "Index(['Track.Name', 'Artist.Name', 'Genre', 'Beats.Per.Minute', 'Energy',\n",
       "       'Danceability', 'Loudness..dB..', 'Liveness', 'Valence.', 'Length.',\n",
       "       'Acousticness..', 'Speechiness.', 'Popularity'],\n",
       "      dtype='object')"
      ]
     },
     "execution_count": 15,
     "metadata": {},
     "output_type": "execute_result"
    }
   ],
   "source": [
    "top50.columns"
   ]
  },
  {
   "cell_type": "markdown",
   "id": "275e944d",
   "metadata": {},
   "source": [
    "Since our column names don't follow the naming convention, let's rename them."
   ]
  },
  {
   "cell_type": "code",
   "execution_count": 16,
   "id": "e39fe742",
   "metadata": {},
   "outputs": [],
   "source": [
    "#make the column names lowercase\n",
    "for i in top50.columns:\n",
    "    top50 = top50.rename(columns = {i: i.lower()})\n",
    "    \n",
    "#replace the dot (.) with an underscore (_)\n",
    "for i in top50.columns:\n",
    "    top50 = top50.rename(columns={i: i.replace('.', '_')})"
   ]
  },
  {
   "cell_type": "markdown",
   "id": "b5495815",
   "metadata": {},
   "source": [
    "Check the columns"
   ]
  },
  {
   "cell_type": "code",
   "execution_count": 17,
   "id": "d03715ee",
   "metadata": {},
   "outputs": [
    {
     "data": {
      "text/plain": [
       "Index(['track_name', 'artist_name', 'genre', 'beats_per_minute', 'energy',\n",
       "       'danceability', 'loudness__db__', 'liveness', 'valence_', 'length_',\n",
       "       'acousticness__', 'speechiness_', 'popularity'],\n",
       "      dtype='object')"
      ]
     },
     "execution_count": 17,
     "metadata": {},
     "output_type": "execute_result"
    }
   ],
   "source": [
    "top50.columns"
   ]
  },
  {
   "cell_type": "markdown",
   "id": "6bbc788f",
   "metadata": {},
   "source": [
    "Some of the one-word only columns contain an underscore at the end. Let's replace it with an empty string"
   ]
  },
  {
   "cell_type": "code",
   "execution_count": 18,
   "id": "40b80ca7",
   "metadata": {},
   "outputs": [],
   "source": [
    "modify_columns = ['valence_', 'length_', 'acousticness__', 'speechiness_']"
   ]
  },
  {
   "cell_type": "code",
   "execution_count": 19,
   "id": "b48f9cef",
   "metadata": {},
   "outputs": [],
   "source": [
    "for i in modify_columns:\n",
    "    top50.rename(columns={i: i.replace('_', '')}, inplace = True)"
   ]
  },
  {
   "cell_type": "markdown",
   "id": "b58e5350",
   "metadata": {},
   "source": [
    "Check the columns yet again"
   ]
  },
  {
   "cell_type": "code",
   "execution_count": 20,
   "id": "d29b6955",
   "metadata": {},
   "outputs": [
    {
     "data": {
      "text/plain": [
       "Index(['track_name', 'artist_name', 'genre', 'beats_per_minute', 'energy',\n",
       "       'danceability', 'loudness__db__', 'liveness', 'valence', 'length',\n",
       "       'acousticness', 'speechiness', 'popularity'],\n",
       "      dtype='object')"
      ]
     },
     "execution_count": 20,
     "metadata": {},
     "output_type": "execute_result"
    }
   ],
   "source": [
    "top50.columns"
   ]
  },
  {
   "cell_type": "markdown",
   "id": "f8fe594b",
   "metadata": {},
   "source": [
    "Let's rename the 'loudness__db__' column"
   ]
  },
  {
   "cell_type": "code",
   "execution_count": 21,
   "id": "eea4216a",
   "metadata": {},
   "outputs": [],
   "source": [
    "top50.rename(columns = {'loudness__db__': 'loudness'}, inplace = True)"
   ]
  },
  {
   "cell_type": "markdown",
   "id": "c440a0ac",
   "metadata": {},
   "source": [
    "*Note: A faster way to rename it, was to state it explicitly.*"
   ]
  },
  {
   "cell_type": "code",
   "execution_count": 22,
   "id": "9cfdf455",
   "metadata": {},
   "outputs": [
    {
     "data": {
      "text/plain": [
       "Index(['track_name', 'artist_name', 'genre', 'beats_per_minute', 'energy',\n",
       "       'danceability', 'loudness', 'liveness', 'valence', 'length',\n",
       "       'acousticness', 'speechiness', 'popularity'],\n",
       "      dtype='object')"
      ]
     },
     "execution_count": 22,
     "metadata": {},
     "output_type": "execute_result"
    }
   ],
   "source": [
    "top50.columns"
   ]
  },
  {
   "cell_type": "markdown",
   "id": "16600ed6",
   "metadata": {},
   "source": [
    "## Task 3: Visualizations"
   ]
  },
  {
   "cell_type": "markdown",
   "id": "c4d08f16",
   "metadata": {},
   "source": [
    "### 3.1: Categorical Columns \n",
    "- We're going to omit the 'track_name' column as it serves no purpose for the visualization goal since there's 50 different values for the same amount of rows"
   ]
  },
  {
   "cell_type": "code",
   "execution_count": 23,
   "id": "4ccc6e5e",
   "metadata": {},
   "outputs": [],
   "source": [
    "def categorical_plot(attribute):\n",
    "    '''Create a plot for the categorical values of the dataset'''\n",
    "    column_name = top50[attribute]\n",
    "    count = column_name.value_counts()\n",
    "    \n",
    "    plt.figure(figsize=(10,8))\n",
    "    plt.bar(count.index, count)\n",
    "    plt.tight_layout()\n",
    "    \n",
    "    if attribute == 'artist_name':\n",
    "        plt.title(\"Spotify Top 50 Artists\", fontweight = \"bold\")\n",
    "        plt.xlabel(\"Artist\")\n",
    "    else:\n",
    "        plt.title(\"Spotify Top 50 Genres\", fontweight = \"bold\")\n",
    "        plt.xlabel(\"Genre\")\n",
    "        \n",
    "    plt.ylabel(\"Frequency\")\n",
    "    plt.xticks(count.index, count.index.values, rotation = 60)\n",
    "    plt.show()"
   ]
  },
  {
   "cell_type": "code",
   "execution_count": 24,
   "id": "c8cde90a",
   "metadata": {},
   "outputs": [
    {
     "data": {
      "image/png": "[encoded data removed]",
      "text/plain": [
       "<Figure size 720x576 with 1 Axes>"
      ]
     },
     "metadata": {
      "needs_background": "light"
     },
     "output_type": "display_data"
    },
    {
     "data": {
      "image/png": "[encoded data removed]",
      "text/plain": [
       "<Figure size 720x576 with 1 Axes>"
      ]
     },
     "metadata": {
      "needs_background": "light"
     },
     "output_type": "display_data"
    }
   ],
   "source": [
    "spotify_categorical = ['artist_name', 'genre']\n",
    "for i in spotify_categorical:\n",
    "    categorical_plot(i)"
   ]
  },
  {
   "cell_type": "markdown",
   "id": "1db48a3d",
   "metadata": {},
   "source": [
    "### 3.2: Numerical Columns \n",
    "- Since I'm not a fan of the the format of the column 'beats_per_minute' when outputting as the graph title, I utilized an if-statement to change the formatting"
   ]
  },
  {
   "cell_type": "code",
   "execution_count": 25,
   "id": "c2d4ac91",
   "metadata": {},
   "outputs": [],
   "source": [
    "def numerical_plot(attribute):\n",
    "    '''Create a plot for the numerical values of the dataset'''\n",
    "    column_name = top50[attribute]\n",
    "    \n",
    "    plt.figure(figsize=(6,4.8))\n",
    "    plt.hist(top50[attribute], bins = 50 )\n",
    "    plt.tight_layout()\n",
    "    \n",
    "    if attribute == 'beats_per_minute':\n",
    "        plt.title(\"Spotify Top 50 Beats per Minute Frequency\", fontweight = \"bold\")\n",
    "        plt.xlabel(\"Beats per Minute \")\n",
    "    else:\n",
    "        plt.title(\"Spotify Top 50 \" + attribute.capitalize() + \" Frequency\", fontweight = \"bold\")\n",
    "        plt.xlabel(attribute)\n",
    "        \n",
    "    plt.ylabel(\"Counts\")\n",
    "    plt.xticks(rotation = 90)\n",
    "    plt.show()"
   ]
  },
  {
   "cell_type": "code",
   "execution_count": 26,
   "id": "e102b919",
   "metadata": {},
   "outputs": [
    {
     "data": {
      "image/png": "[encoded data removed]",
      "text/plain": [
       "<Figure size 432x345.6 with 1 Axes>"
      ]
     },
     "metadata": {
      "needs_background": "light"
     },
     "output_type": "display_data"
    },
    {
     "data": {
      "image/png": "[encoded data removed]",
      "text/plain": [
       "<Figure size 432x345.6 with 1 Axes>"
      ]
     },
     "metadata": {
      "needs_background": "light"
     },
     "output_type": "display_data"
    },
    {
     "data": {
      "image/png": "[encoded data removed]",
      "text/plain": [
       "<Figure size 432x345.6 with 1 Axes>"
      ]
     },
     "metadata": {
      "needs_background": "light"
     },
     "output_type": "display_data"
    },
    {
     "data": {
      "image/png": "[encoded data removed]",
      "text/plain": [
       "<Figure size 432x345.6 with 1 Axes>"
      ]
     },
     "metadata": {
      "needs_background": "light"
     },
     "output_type": "display_data"
    },
    {
     "data": {
      "image/png": "[encoded data removed]",
      "text/plain": [
       "<Figure size 432x345.6 with 1 Axes>"
      ]
     },
     "metadata": {
      "needs_background": "light"
     },
     "output_type": "display_data"
    },
    {
     "data": {
      "image/png": "[encoded data removed]",
      "text/plain": [
       "<Figure size 432x345.6 with 1 Axes>"
      ]
     },
     "metadata": {
      "needs_background": "light"
     },
     "output_type": "display_data"
    },
    {
     "data": {
      "image/png": "[encoded data removed]",
      "text/plain": [
       "<Figure size 432x345.6 with 1 Axes>"
      ]
     },
     "metadata": {
      "needs_background": "light"
     },
     "output_type": "display_data"
    },
    {
     "data": {
      "image/png": "[encoded data removed]",
      "text/plain": [
       "<Figure size 432x345.6 with 1 Axes>"
      ]
     },
     "metadata": {
      "needs_background": "light"
     },
     "output_type": "display_data"
    },
    {
     "data": {
      "image/png": "[encoded data removed]",
      "text/plain": [
       "<Figure size 432x345.6 with 1 Axes>"
      ]
     },
     "metadata": {
      "needs_background": "light"
     },
     "output_type": "display_data"
    },
    {
     "data": {
      "image/png": "[encoded data removed]",
      "text/plain": [
       "<Figure size 432x345.6 with 1 Axes>"
      ]
     },
     "metadata": {
      "needs_background": "light"
     },
     "output_type": "display_data"
    }
   ],
   "source": [
    "spotify_numerical = [\"beats_per_minute\",\"energy\",\"danceability\",\n",
    "           \"loudness\",\"liveness\",\"valence\",\n",
    "           \"length\",\"acousticness\",\"speechiness\",\"popularity\"]\n",
    "\n",
    "for i in spotify_numerical:\n",
    "    numerical_plot(i)"
   ]
  },
  {
   "cell_type": "markdown",
   "id": "afd6838e",
   "metadata": {},
   "source": [
    "## 3.3: Univariate Analysis"
   ]
  },
  {
   "cell_type": "markdown",
   "id": "1df079c5",
   "metadata": {},
   "source": [
    "**Question 1:** What does the ditribution of the popularity for the respective songs look like? Is it skewed?"
   ]
  },
  {
   "cell_type": "code",
   "execution_count": 27,
   "id": "c0814070",
   "metadata": {},
   "outputs": [
    {
     "name": "stderr",
     "output_type": "stream",
     "text": [
      "/Users/baraazekeria/opt/anaconda3/lib/python3.8/site-packages/seaborn/distributions.py:2557: FutureWarning: `distplot` is a deprecated function and will be removed in a future version. Please adapt your code to use either `displot` (a figure-level function with similar flexibility) or `histplot` (an axes-level function for histograms).\n",
      "  warnings.warn(msg, FutureWarning)\n"
     ]
    },
    {
     "data": {
      "text/plain": [
       "<AxesSubplot:xlabel='popularity', ylabel='Density'>"
      ]
     },
     "execution_count": 27,
     "metadata": {},
     "output_type": "execute_result"
    },
    {
     "data": {
      "image/png": "[encoded data removed]",
      "text/plain": [
       "<Figure size 432x288 with 1 Axes>"
      ]
     },
     "metadata": {
      "needs_background": "light"
     },
     "output_type": "display_data"
    }
   ],
   "source": [
    "sns.distplot(top50['popularity'])"
   ]
  },
  {
   "cell_type": "code",
   "execution_count": 28,
   "id": "07737c67",
   "metadata": {},
   "outputs": [
    {
     "name": "stderr",
     "output_type": "stream",
     "text": [
      "/Users/baraazekeria/opt/anaconda3/lib/python3.8/site-packages/seaborn/distributions.py:2557: FutureWarning: `distplot` is a deprecated function and will be removed in a future version. Please adapt your code to use either `displot` (a figure-level function with similar flexibility) or `histplot` (an axes-level function for histograms).\n",
      "  warnings.warn(msg, FutureWarning)\n"
     ]
    },
    {
     "data": {
      "text/plain": [
       "<matplotlib.legend.Legend at 0x7fe543cbbc70>"
      ]
     },
     "execution_count": 28,
     "metadata": {},
     "output_type": "execute_result"
    },
    {
     "data": {
      "image/png": "[encoded data removed]",
      "text/plain": [
       "<Figure size 432x288 with 1 Axes>"
      ]
     },
     "metadata": {
      "needs_background": "light"
     },
     "output_type": "display_data"
    }
   ],
   "source": [
    "sns.distplot(top50['popularity'])\n",
    "plt.axvline(x = np.mean(top50['popularity']), c = 'red', ls = '--', label = 'mean')\n",
    "plt.axvline(x = np.median(top50['popularity']), c = 'blue', ls = '--', label = 'median')\n",
    "#plt.axvline(x = np.mode(top50['popularity']), c = 'blue', ls = '--', label = 'mean')\n",
    "plt.axvline(x = np.percentile(top50['popularity'], 25), c = 'green', ls = \"--\", label = '25-75th percentile')\n",
    "plt.axvline(x = np.percentile(top50['popularity'], 75), c = 'green', ls = \"--\")\n",
    "plt.xlabel(\"Popularity\")\n",
    "plt.legend()"
   ]
  },
  {
   "cell_type": "markdown",
   "id": "714534dd",
   "metadata": {},
   "source": [
    "How should I desrcibe a graph? \n",
    "\n",
    "*As my AP Statistics teacher once said, \"CUSS & BS\"!*\n",
    "\n",
    "- **C**enter: mean, median, mode, etc.\n",
    "- **U**nusual features: outliers, bimodal\n",
    "- **S**hape\n",
    "- **S**pread: range, IQR, standrad deviation, etc.\n",
    "\n",
    "**CUSS @ your graphs and Be Specific**"
   ]
  },
  {
   "cell_type": "markdown",
   "id": "e1a32f65",
   "metadata": {},
   "source": [
    "As we can see from the graph above, the popularity of the respective Top 50 Songs from Spotify is skewed to the left with the mean and median being around 87 and 88 respectively. There seems to be an outlier at 70 with the peak being between 88-90. The data ranges from 70-95 inclusive. Majority of the data falls between 86-91 though 25% are above/below the stated range."
   ]
  },
  {
   "cell_type": "markdown",
   "id": "a58f3de4",
   "metadata": {},
   "source": [
    "Let's check my predictions. From the graph, was I able to correctly identify the respective measures of spread?"
   ]
  },
  {
   "cell_type": "code",
   "execution_count": 29,
   "id": "f19371ba",
   "metadata": {},
   "outputs": [
    {
     "data": {
      "text/plain": [
       "70"
      ]
     },
     "execution_count": 29,
     "metadata": {},
     "output_type": "execute_result"
    }
   ],
   "source": [
    "top50['popularity'].min()"
   ]
  },
  {
   "cell_type": "code",
   "execution_count": 30,
   "id": "266d40af",
   "metadata": {},
   "outputs": [
    {
     "data": {
      "text/plain": [
       "95"
      ]
     },
     "execution_count": 30,
     "metadata": {},
     "output_type": "execute_result"
    }
   ],
   "source": [
    "top50['popularity'].max()"
   ]
  },
  {
   "cell_type": "code",
   "execution_count": 31,
   "id": "c8b9cbc2",
   "metadata": {},
   "outputs": [
    {
     "data": {
      "text/plain": [
       "87.5"
      ]
     },
     "execution_count": 31,
     "metadata": {},
     "output_type": "execute_result"
    }
   ],
   "source": [
    "top50['popularity'].mean()"
   ]
  },
  {
   "cell_type": "markdown",
   "id": "0d081a38",
   "metadata": {},
   "source": [
    "Nice! I was pretty close for the mean, nonetheless on the right track"
   ]
  },
  {
   "cell_type": "code",
   "execution_count": 32,
   "id": "e360b786",
   "metadata": {},
   "outputs": [
    {
     "data": {
      "text/plain": [
       "array([[<AxesSubplot:title={'center':'beats_per_minute'}>,\n",
       "        <AxesSubplot:title={'center':'energy'}>,\n",
       "        <AxesSubplot:title={'center':'danceability'}>],\n",
       "       [<AxesSubplot:title={'center':'loudness'}>,\n",
       "        <AxesSubplot:title={'center':'liveness'}>,\n",
       "        <AxesSubplot:title={'center':'valence'}>],\n",
       "       [<AxesSubplot:title={'center':'length'}>,\n",
       "        <AxesSubplot:title={'center':'acousticness'}>,\n",
       "        <AxesSubplot:title={'center':'speechiness'}>],\n",
       "       [<AxesSubplot:title={'center':'popularity'}>, <AxesSubplot:>,\n",
       "        <AxesSubplot:>]], dtype=object)"
      ]
     },
     "execution_count": 32,
     "metadata": {},
     "output_type": "execute_result"
    },
    {
     "data": {
      "image/png": "[encoded data removed]",
      "text/plain": [
       "<Figure size 720x720 with 12 Axes>"
      ]
     },
     "metadata": {
      "needs_background": "light"
     },
     "output_type": "display_data"
    }
   ],
   "source": [
    "top50.hist(figsize = (10, 10))"
   ]
  },
  {
   "cell_type": "markdown",
   "id": "2aecb177",
   "metadata": {},
   "source": [
    "### 3.3 Bivariate Analysis"
   ]
  },
  {
   "cell_type": "markdown",
   "id": "9c94ddd9",
   "metadata": {},
   "source": [
    "**Question 2:** Do the amount of artist appearences differ by much between the artists?\n",
    "- *Note:* Same analysis in 3.1 but somewhat of a different visualization "
   ]
  },
  {
   "cell_type": "code",
   "execution_count": 33,
   "id": "d8600232",
   "metadata": {},
   "outputs": [
    {
     "data": {
      "text/plain": [
       "Text(0.5, 1.0, \"Spotify's Top 50 Artists\")"
      ]
     },
     "execution_count": 33,
     "metadata": {},
     "output_type": "execute_result"
    },
    {
     "data": {
      "image/png": "[encoded data removed]",
      "text/plain": [
       "<Figure size 576x432 with 1 Axes>"
      ]
     },
     "metadata": {
      "needs_background": "light"
     },
     "output_type": "display_data"
    }
   ],
   "source": [
    "plt.figure(figsize=(8, 6))\n",
    "sns.countplot(x = 'artist_name', data = top50)\n",
    "plt.xticks(rotation = 90)\n",
    "plt.tight_layout()\n",
    "plt.xlabel(\"Artists\")\n",
    "plt.ylabel(\"Count\")\n",
    "plt.title(\"Spotify's Top 50 Artists\", fontweight = \"bold\")"
   ]
  },
  {
   "cell_type": "markdown",
   "id": "056eb342",
   "metadata": {},
   "source": [
    "## Task 4: Answer"
   ]
  },
  {
   "cell_type": "markdown",
   "id": "1842491b",
   "metadata": {},
   "source": [
    "### Top Artist by Popularity"
   ]
  },
  {
   "cell_type": "code",
   "execution_count": 34,
   "id": "92d3a0e3",
   "metadata": {},
   "outputs": [
    {
     "data": {
      "text/html": [
       "<div>\n",
       "<style scoped>\n",
       "    .dataframe tbody tr th:only-of-type {\n",
       "        vertical-align: middle;\n",
       "    }\n",
       "\n",
       "    .dataframe tbody tr th {\n",
       "        vertical-align: top;\n",
       "    }\n",
       "\n",
       "    .dataframe thead th {\n",
       "        text-align: right;\n",
       "    }\n",
       "</style>\n",
       "<table border=\"1\" class=\"dataframe\">\n",
       "  <thead>\n",
       "    <tr style=\"text-align: right;\">\n",
       "      <th></th>\n",
       "      <th>artist_name</th>\n",
       "      <th>track_name</th>\n",
       "      <th>popularity</th>\n",
       "    </tr>\n",
       "  </thead>\n",
       "  <tbody>\n",
       "    <tr>\n",
       "      <th>9</th>\n",
       "      <td>Billie Eilish</td>\n",
       "      <td>bad guy</td>\n",
       "      <td>95</td>\n",
       "    </tr>\n",
       "  </tbody>\n",
       "</table>\n",
       "</div>"
      ],
      "text/plain": [
       "     artist_name track_name  popularity\n",
       "9  Billie Eilish    bad guy          95"
      ]
     },
     "execution_count": 34,
     "metadata": {},
     "output_type": "execute_result"
    }
   ],
   "source": [
    "top50[['artist_name', 'track_name','popularity']].sort_values(by='popularity',ascending=False).head(1)"
   ]
  }
 ],
 "metadata": {
  "kernelspec": {
   "display_name": "Python 3",
   "language": "python",
   "name": "python3"
  },
  "language_info": {
   "codemirror_mode": {
    "name": "ipython",
    "version": 3
   },
   "file_extension": ".py",
   "mimetype": "text/x-python",
   "name": "python",
   "nbconvert_exporter": "python",
   "pygments_lexer": "ipython3",
   "version": "3.8.8"
  }
 },
 "nbformat": 4,
 "nbformat_minor": 5
}
